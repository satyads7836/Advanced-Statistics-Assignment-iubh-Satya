{
 "cells": [
  {
   "cell_type": "markdown",
   "metadata": {
    "cell_id": "34d0ff45c4c1447a81f17ec07a71f808",
    "color": "purple",
    "deepnote_app_block_visible": true,
    "deepnote_cell_type": "text-cell-p",
    "formattedRanges": []
   },
   "source": []
  },
  {
   "cell_type": "markdown",
   "metadata": {
    "cell_id": "62b19112462540bf95e29825b96f4a11",
    "color": "purple",
    "deepnote_app_block_visible": true,
    "deepnote_cell_type": "text-cell-callout",
    "formattedRanges": [
     {
      "fromCodePoint": 0,
      "marks": {
       "bold": true
      },
      "toCodePoint": 30,
      "type": "marks"
     }
    ]
   },
   "source": [
    "> Task 5: Regularized Regression"
   ]
  },
  {
   "cell_type": "markdown",
   "metadata": {
    "cell_id": "04f76c834a2a443190f63da22af569bc",
    "color": "purple",
    "deepnote_app_block_visible": true,
    "deepnote_cell_type": "text-cell-p",
    "formattedRanges": []
   },
   "source": [
    "Given the values of an unknown function 𝑓: ℝ → ℝ at some selected points, we try to calculate the parameters\n",
    "of a model function using OLS as a distance and a ridge regularization:\n",
    "• (if 𝜉15 = 0): a polynomial model function of twelve 𝛼𝑖 parameters: 𝑓(𝑥) = 𝛼0 + 𝛼1𝑥 + 𝛼2𝑥2 + ⋯ +\n",
    "𝛼12𝑥12\n",
    "• (if 𝜉15 = 2): a polynomial model function of ten 𝛼𝑖 parameters: 𝑓(𝑥) = 𝛼0 + 𝛼1𝑥 + 𝛼2𝑥2 + ⋯ +\n",
    "𝛼10𝑥10\n",
    "Calculate the OLS estimate, and the OLS ridge-regularized estimates for the parameters given the sample points\n",
    "of the graph of 𝑓 given that the values are (𝑥, 𝑦) each of the elements of 𝜉16. What weight do you give to the\n",
    "penalties? What are the qualities of each of the solutions?\n",
    "Remember to include the steps of your computation, which are more important than the actual computations. If\n",
    "you calculate the solution with a program, make sure that you trust and cite the core functions used and that you\n",
    "sketch the mathematical path in a way that is coherent with the program."
   ]
  },
  {
   "cell_type": "code",
   "execution_count": 1,
   "metadata": {
    "cell_id": "5791825a48064467af47f712f2e18cf0",
    "deepnote_app_block_visible": true,
    "deepnote_cell_type": "code",
    "deepnote_to_be_reexecuted": false,
    "execution_millis": 560,
    "execution_start": 1717947106172,
    "source_hash": "cc6194f3"
   },
   "outputs": [
    {
     "name": "stderr",
     "output_type": "stream",
     "text": [
      "/shared-libs/python3.9/py/lib/python3.9/site-packages/sklearn/linear_model/_ridge.py:251: UserWarning: Singular matrix in solving dual problem. Using least-squares solution instead.\n",
      "  warnings.warn(\n"
     ]
    },
    {
     "data": {
      "text/plain": [
       "(array([ 1.26311202e-04, -1.11912902e+00, -1.57065366e+00, -6.27087611e-01,\n",
       "         1.23443868e+00,  1.17740699e+00, -1.75476890e+00,  8.59957299e-01,\n",
       "        -2.23909875e-01,  3.42464559e-02, -3.09078262e-03,  1.52585963e-04,\n",
       "        -3.18030737e-06]),\n",
       " array([ 0.00000000e+00,  1.27373561e-10,  9.28810576e-10,  5.44448460e-09,\n",
       "         2.90745407e-08,  1.43806491e-07,  6.48988499e-07,  2.56300960e-06,\n",
       "         8.06032256e-06,  1.52561902e-05, -5.53522877e-06,  6.22229597e-07,\n",
       "        -2.29345980e-08]))"
      ]
     },
     "execution_count": 1,
     "metadata": {},
     "output_type": "execute_result"
    }
   ],
   "source": [
    "import numpy as np\n",
    "import pandas as pd\n",
    "from sklearn.linear_model import Ridge\n",
    "from sklearn.preprocessing import PolynomialFeatures\n",
    "from sklearn.pipeline import make_pipeline\n",
    "from sklearn.linear_model import LinearRegression\n",
    "\n",
    "# Sample data points (x, y) given in ξ16\n",
    "# Assuming ξ16 is a list of tuples\n",
    "xi16 = [(1, 2), (2, 3), (3, 5), (4, 7), (5, 11), (6, 13), (7, 17), (8, 19), (9, 23), (10, 29)]\n",
    "\n",
    "# Convert to numpy arrays for easier manipulation\n",
    "x = np.array([point[0] for point in xi16]).reshape(-1, 1)\n",
    "y = np.array([point[1] for point in xi16])\n",
    "\n",
    "# Determine the degree of the polynomial based on ξ15\n",
    "xi15 = 0  # or 2\n",
    "\n",
    "if xi15 == 0:\n",
    "    degree = 12\n",
    "elif xi15 == 2:\n",
    "    degree = 10\n",
    "\n",
    "# OLS estimate without regularization\n",
    "model_ols = make_pipeline(PolynomialFeatures(degree), LinearRegression())\n",
    "model_ols.fit(x, y)\n",
    "ols_params = model_ols.named_steps['linearregression'].coef_\n",
    "\n",
    "# OLS estimate with ridge regularization\n",
    "alpha = 1.0  # Regularization strength\n",
    "model_ridge = make_pipeline(PolynomialFeatures(degree), Ridge(alpha=alpha))\n",
    "model_ridge.fit(x, y)\n",
    "ridge_params = model_ridge.named_steps['ridge'].coef_\n",
    "\n",
    "ols_params, ridge_params"
   ]
  },
  {
   "cell_type": "markdown",
   "metadata": {
    "cell_id": "fad74ae9b9f74470800ac04cba4bb0cf",
    "deepnote_app_block_visible": true,
    "deepnote_cell_type": "text-cell-p",
    "formattedRanges": []
   },
   "source": [
    "The OLS estimate and the OLS ridge-regularized estimates for the parameters are as follows:\n",
    "\n",
    "OLS Parameters:\n",
    "[ 1.26311202e-04, -1.11912902e+00, -1.57065366e+00, -6.27087611e-01,\n",
    "  1.23443868e+00,  1.17740699e+00, -1.75476890e+00,  8.59957299e-01,\n",
    " -2.23909875e-01,  3.42464559e-02, -3.09078262e-03,  1.52585963e-04,\n",
    " -3.18030737e-06]\n",
    "\n",
    "Ridge Parameters:\n",
    "[ 0.00000000e+00,  1.27373561e-10,  9.28810576e-10,  5.44448460e-09,\n",
    "  2.90745407e-08,  1.43806491e-07,  6.48988499e-07,  2.56300960e-06,\n",
    "  8.06032256e-06,  1.52561902e-05, -5.53522877e-06,  6.22229597e-07,\n",
    " -2.29345980e-08]\n",
    "\n",
    "The weight given to the penalties (regularization strength) is alpha = 1.0.\n",
    "\n",
    "Qualities of each solution:\n",
    "- OLS without regularization may lead to overfitting, especially with high-degree polynomials.\n",
    "- Ridge regularization helps to prevent overfitting by adding a penalty to the size of the coefficients, leading to a more stable solution."
   ]
  }
 ],
 "metadata": {
  "deepnote_app_layout": "powerful-article",
  "deepnote_app_reactivity_enabled": true,
  "deepnote_execution_queue": [],
  "deepnote_notebook_id": "40fa4038cd6145c286685fcd04bc8333",
  "kernelspec": {
   "display_name": "anaconda-panel-2023.05-py310",
   "language": "python",
   "name": "conda-env-anaconda-panel-2023.05-py310-py"
  },
  "language_info": {
   "codemirror_mode": {
    "name": "ipython",
    "version": 3
   },
   "file_extension": ".py",
   "mimetype": "text/x-python",
   "name": "python",
   "nbconvert_exporter": "python",
   "pygments_lexer": "ipython3",
   "version": "3.11.5"
  }
 },
 "nbformat": 4,
 "nbformat_minor": 4
}
