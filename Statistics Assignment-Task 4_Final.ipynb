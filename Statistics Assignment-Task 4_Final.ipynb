{
 "cells": [
  {
   "cell_type": "markdown",
   "metadata": {
    "cell_id": "595bd12a0af64ac1ab0286872ce5325c",
    "color": "purple",
    "deepnote_app_block_visible": true,
    "deepnote_cell_type": "text-cell-callout",
    "formattedRanges": [
     {
      "fromCodePoint": 0,
      "marks": {
       "bold": true
      },
      "toCodePoint": 23,
      "type": "marks"
     }
    ]
   },
   "source": [
    "> Task 4: Hypothesis Test\n",
    "Over a long period of time, the production of 1,000 high-quality hammers in a factory seems to have reached a\n",
    "weight with an average of 𝜉11 (in 𝑔) and standard deviation of 𝜉12 (in 𝑔). Propose a model for the weight of the\n",
    "hammers including a probability distribution for the weight. Provide all the assumptions needed for this model\n",
    "to hold (even the uncertain ones). What parameters does this model have?\n",
    "One aims to answer one of the following questions about a new production system:\n",
    "• (if 𝜉13 = 0): Does the new system make more constant weights?\n",
    "• (if 𝜉13 = 1): Does the new system make lower weights?\n",
    "• (if 𝜉13 = 2): Does the new system make higher weights?\n",
    "• (if 𝜉13 = 3): Does the new system make less constant weights?\n",
    "To answer this question, a random sample of newly produced hammers is evaluated yielding the weights in 𝜉14.\n",
    "What hypotheses can you propose to test the question? What test and decision rule can you make to estimate\n",
    "whether the new system answers the given question? Express the decision rules as logical statements involving\n",
    "critical values. What error probabilities can you suggest and calculate? Perform the test and draw the conclusion\n",
    "to answer the question.Also provide the links of references and sources for assignment"
   ]
  },
  {
   "cell_type": "markdown",
   "metadata": {
    "cell_id": "29875e43582d4b00a29bf010896d43ec",
    "deepnote_app_block_visible": true,
    "deepnote_cell_type": "text-cell-p",
    "formattedRanges": []
   },
   "source": [
    "Suggest a model for the weight of hammers in terms of:"
   ]
  },
  {
   "cell_type": "markdown",
   "metadata": {
    "cell_id": "76a1336cc7cb4cff9473008e2a9fd4b9",
    "deepnote_app_block_visible": true,
    "deepnote_cell_type": "text-cell-p",
    "formattedRanges": []
   },
   "source": [
    "The assumption is that their weights have a normal distribution, ( N(\\mu, \\sigma^2) ), where ( \\mu ) is the average weight and ( \\sigma^2 is variance."
   ]
  },
  {
   "cell_type": "markdown",
   "metadata": {
    "cell_id": "62a638c5f85a42a0b10bf21afce5bad1",
    "deepnote_app_block_visible": true,
    "deepnote_cell_type": "text-cell-p",
    "formattedRanges": []
   },
   "source": [
    "Parameters: ( \\mu ) (mean of weight), ( \\sigma ) (standard deviation of weight)."
   ]
  },
  {
   "cell_type": "markdown",
   "metadata": {
    "cell_id": "d30da74c21974abd909110058c2a81db",
    "deepnote_app_block_visible": true,
    "deepnote_cell_type": "text-cell-p",
    "formattedRanges": []
   },
   "source": [
    "State Assumptions:"
   ]
  },
  {
   "cell_type": "markdown",
   "metadata": {
    "cell_id": "9cc7eec57a554d72acaa2526a97f46ed",
    "deepnote_app_block_visible": true,
    "deepnote_cell_type": "text-cell-p",
    "formattedRanges": []
   },
   "source": [
    "Weights of hammers follow normal distribution."
   ]
  },
  {
   "cell_type": "markdown",
   "metadata": {
    "cell_id": "de058c7753714de7bc84801d6da7a0aa",
    "deepnote_app_block_visible": true,
    "deepnote_cell_type": "text-cell-p",
    "formattedRanges": []
   },
   "source": [
    "A sample of weights was selected randomly."
   ]
  },
  {
   "cell_type": "markdown",
   "metadata": {
    "cell_id": "272a6928c6ef4b30b7baf40e744f2110",
    "deepnote_app_block_visible": true,
    "deepnote_cell_type": "text-cell-p",
    "formattedRanges": []
   },
   "source": [
    "The process had the same efficiency over time."
   ]
  },
  {
   "cell_type": "markdown",
   "metadata": {
    "cell_id": "73f6deefec56419ab5ef9cacf979de41",
    "deepnote_app_block_visible": true,
    "deepnote_cell_type": "text-cell-p",
    "formattedRanges": []
   },
   "source": [
    "Hypotheses Formulation for Each Question:"
   ]
  },
  {
   "cell_type": "markdown",
   "metadata": {
    "cell_id": "29fc2ad64708450f97543d91749f6422",
    "deepnote_app_block_visible": true,
    "deepnote_cell_type": "text-cell-p",
    "formattedRanges": []
   },
   "source": [
    "Is this new system producing more constant weights? For ( ξ_{13} = 0)"
   ]
  },
  {
   "cell_type": "markdown",
   "metadata": {
    "cell_id": "f593511ae5824ccbb4479abda472e2bb",
    "deepnote_app_block_visible": true,
    "deepnote_cell_type": "text-cell-p",
    "formattedRanges": []
   },
   "source": [
    "Null Hypothesis (( H_0 )): σ_new² ≥σ_old²"
   ]
  },
  {
   "cell_type": "markdown",
   "metadata": {
    "cell_id": "50f41c25c7e34179b236e8727a74e71e",
    "deepnote_app_block_visible": true,
    "deepnote_cell_type": "text-cell-p",
    "formattedRanges": []
   },
   "source": [
    "Alternative Hypothesis (( H_1 )): σ_new² < σ_old²"
   ]
  },
  {
   "cell_type": "markdown",
   "metadata": {
    "cell_id": "471d884141e74adbaa14d0fe706c4e1d",
    "deepnote_app_block_visible": true,
    "deepnote_cell_type": "text-cell-p",
    "formattedRanges": []
   },
   "source": [
    "Is this new system giving out lower weights? For ( ξ_{13} = 1)"
   ]
  },
  {
   "cell_type": "markdown",
   "metadata": {
    "cell_id": "5f11cff15db5432bb327213ceaf5d560",
    "deepnote_app_block_visible": true,
    "deepnote_cell_type": "text-cell-p",
    "formattedRanges": []
   },
   "source": [
    "Null Hypothesis (( H_0 )): μ_new ≤μ_old"
   ]
  },
  {
   "cell_type": "markdown",
   "metadata": {
    "cell_id": "e3543942949b4a50892cbdda2dcf6a1b",
    "deepnote_app_block_visible": true,
    "deepnote_cell_type": "text-cell-p",
    "formattedRanges": []
   },
   "source": [
    "Alternative Hypothesis (( H_1 )): μ_new> μ_old"
   ]
  },
  {
   "cell_type": "markdown",
   "metadata": {
    "cell_id": "b5b2a7e4df2f4874b3b4e32dae377b4f",
    "deepnote_app_block_visible": true,
    "deepnote_cell_type": "text-cell-p",
    "formattedRanges": []
   },
   "source": [
    "Is this new system giving out higher weights? For ( ξ_{13} = 2)"
   ]
  },
  {
   "cell_type": "markdown",
   "metadata": {
    "cell_id": "dea6d787d7cf481dbdb8726fe5493c95",
    "deepnote_app_block_visible": true,
    "deepnote_cell_type": "text-cell-p",
    "formattedRanges": []
   },
   "source": [
    "Null Hypothesis (( H_0 )): μ_new ≤μ_old"
   ]
  },
  {
   "cell_type": "markdown",
   "metadata": {
    "cell_id": "90f871c71583403399d090f93c211f69",
    "deepnote_app_block_visible": true,
    "deepnote_cell_type": "text-cell-p",
    "formattedRanges": []
   },
   "source": [
    "Alternative Hypothesis (( H_1 )): μ_new> μ_old"
   ]
  },
  {
   "cell_type": "markdown",
   "metadata": {
    "cell_id": "6b9a382cd10e46e3a10cb0705d3add0b",
    "deepnote_app_block_visible": true,
    "deepnote_cell_type": "text-cell-p",
    "formattedRanges": []
   },
   "source": [
    "Does the new system make less constant weights? For ( ξ_{13} = 3)"
   ]
  },
  {
   "cell_type": "markdown",
   "metadata": {
    "cell_id": "67a31de32c0a431e908e8fe1ea6a896d",
    "deepnote_app_block_visible": true,
    "deepnote_cell_type": "text-cell-p",
    "formattedRanges": []
   },
   "source": [
    "Null Hypothesis (( H_0 )): σ_new² ≤σ_old²"
   ]
  },
  {
   "cell_type": "markdown",
   "metadata": {
    "cell_id": "f35358ba72aa4d8c905582af83ea43c9",
    "deepnote_app_block_visible": true,
    "deepnote_cell_type": "text-cell-p",
    "formattedRanges": []
   },
   "source": [
    "Alternative Hypothesis (( H_1 )): σ_new² >σ_old²"
   ]
  },
  {
   "cell_type": "markdown",
   "metadata": {
    "cell_id": "a95e51c1fc4349eb8f6bda7078cc3658",
    "deepnote_app_block_visible": true,
    "deepnote_cell_type": "text-cell-p",
    "formattedRanges": []
   },
   "source": [
    "Select Test and Decision Rule:"
   ]
  },
  {
   "cell_type": "markdown",
   "metadata": {
    "cell_id": "743ee9ee42ec4cc582faf2ae25c32059",
    "deepnote_app_block_visible": true,
    "deepnote_cell_type": "text-cell-p",
    "formattedRanges": []
   },
   "source": [
    "For comparing variances (questions 0 and 3), use the F-test."
   ]
  },
  {
   "cell_type": "markdown",
   "metadata": {
    "cell_id": "c2ed0d5d7f2542799be02a5d069903a8",
    "deepnote_app_block_visible": true,
    "deepnote_cell_type": "text-cell-p",
    "formattedRanges": []
   },
   "source": [
    "For comparing means (questions 1 and 2), use the t-test."
   ]
  },
  {
   "cell_type": "markdown",
   "metadata": {
    "cell_id": "e448f8f22db64f05aacf09b1613ad27f",
    "deepnote_app_block_visible": true,
    "deepnote_cell_type": "text-cell-p",
    "formattedRanges": []
   },
   "source": [
    "The decision rules involve comparing the test statistic with critical values of respective distributions."
   ]
  },
  {
   "cell_type": "markdown",
   "metadata": {
    "cell_id": "790bc5cf6396494a839a8d6d51c0125b",
    "deepnote_app_block_visible": true,
    "deepnote_cell_type": "text-cell-p",
    "formattedRanges": []
   },
   "source": [
    "Error Probabilities:"
   ]
  },
  {
   "cell_type": "markdown",
   "metadata": {
    "cell_id": "639a272e4805418bb6498aa116a89bfa",
    "deepnote_app_block_visible": true,
    "deepnote_cell_type": "text-cell-p",
    "formattedRanges": []
   },
   "source": [
    "Type I error (( \\alpha )): Rejecting a null hypothesis which is true."
   ]
  },
  {
   "cell_type": "markdown",
   "metadata": {
    "cell_id": "c73c52d2a0514b1d92d380f4b47542a6",
    "deepnote_app_block_visible": true,
    "deepnote_cell_type": "text-cell-p",
    "formattedRanges": []
   },
   "source": [
    "Type II error (( \\beta )): Not rejecting a null hypothesis which is false."
   ]
  },
  {
   "cell_type": "markdown",
   "metadata": {
    "cell_id": "bb1b21d62ff64c25809cbc17f5b03ab5",
    "deepnote_app_block_visible": true,
    "deepnote_cell_type": "text-cell-p",
    "formattedRanges": []
   },
   "source": [
    "In most cases, ( \\alpha ) is set at 0.05."
   ]
  },
  {
   "cell_type": "markdown",
   "metadata": {
    "cell_id": "bf2e4ff8c962406882ad9e8a358121ff",
    "deepnote_app_block_visible": true,
    "deepnote_cell_type": "text-cell-p",
    "formattedRanges": []
   },
   "source": [
    "Perform Test and Conclude:"
   ]
  },
  {
   "cell_type": "markdown",
   "metadata": {
    "cell_id": "bd7ac0eaec0a45fc811a775f40d3099a",
    "deepnote_app_block_visible": true,
    "deepnote_cell_type": "text-cell-p",
    "formattedRanges": []
   },
   "source": [
    "Collect sample data ( ξ_{14} )."
   ]
  },
  {
   "cell_type": "markdown",
   "metadata": {
    "cell_id": "59013da52e654ee2b9853145c560df87",
    "deepnote_app_block_visible": true,
    "deepnote_cell_type": "text-cell-p",
    "formattedRanges": []
   },
   "source": [
    "Calculate the test statistics."
   ]
  },
  {
   "cell_type": "markdown",
   "metadata": {
    "cell_id": "1c09e25824d74911b1a0419a76322083",
    "deepnote_app_block_visible": true,
    "deepnote_cell_type": "text-cell-p",
    "formattedRanges": []
   },
   "source": [
    "Compare with critical values to make a decision."
   ]
  },
  {
   "cell_type": "markdown",
   "metadata": {
    "cell_id": "5a2bc8012f5448e5b0f2681692334cb1",
    "deepnote_app_block_visible": true,
    "deepnote_cell_type": "text-cell-p",
    "formattedRanges": []
   },
   "source": [
    "Let us assume that we have the following data on new production system (sample weights in grams):"
   ]
  },
  {
   "cell_type": "markdown",
   "metadata": {
    "cell_id": "8ec676600db3452bb9b9572445b10639",
    "deepnote_app_block_visible": true,
    "deepnote_cell_type": "text-cell-p",
    "formattedRanges": []
   },
   "source": [
    "new_weights = [1010, 1005, 995, 1000, 1003, 1007, 1002, 1008, 1001, 1004]"
   ]
  },
  {
   "cell_type": "markdown",
   "metadata": {
    "cell_id": "57615aa2abb143f48919fbea1e930ff0",
    "deepnote_app_block_visible": true,
    "deepnote_cell_type": "text-cell-p",
    "formattedRanges": []
   },
   "source": [
    "For each scenario we will perform hypothesis testing. Let's start by defining parameters for old system and new sample data"
   ]
  },
  {
   "cell_type": "code",
   "execution_count": 1,
   "metadata": {
    "cell_id": "ee454191187747db9b8c967b2513eff1",
    "deepnote_app_block_visible": true,
    "deepnote_cell_type": "code",
    "deepnote_to_be_reexecuted": false,
    "execution_millis": 350,
    "execution_start": 1717946870356,
    "source_hash": "d499d080"
   },
   "outputs": [
    {
     "data": {
      "text/plain": [
       "(1003.5, 4.352521619066865)"
      ]
     },
     "execution_count": 1,
     "metadata": {},
     "output_type": "execute_result"
    }
   ],
   "source": [
    "import numpy as np\n",
    "from scipy import stats\n",
    "\n",
    "# Old system parameters\n",
    "mu_old = 1000  # mean weight in grams\n",
    "sigma_old = 10  # standard deviation in grams\n",
    "\n",
    "# New system sample weights\n",
    "new_weights = [1010, 1005, 995, 1000, 1003, 1007, 1002, 1008, 1001, 1004]\n",
    "\n",
    "# Calculate sample statistics for the new system\n",
    "mu_new = np.mean(new_weights)\n",
    "sigma_new = np.std(new_weights, ddof=1)  # sample standard deviation\n",
    "\n",
    "mu_new, sigma_new"
   ]
  },
  {
   "cell_type": "markdown",
   "metadata": {
    "cell_id": "7e79f2fb23fd4030be9a70cb94035b04",
    "deepnote_app_block_visible": true,
    "deepnote_cell_type": "text-cell-p",
    "formattedRanges": []
   },
   "source": [
    "The following are sample statistics for the new system:"
   ]
  },
  {
   "cell_type": "markdown",
   "metadata": {
    "cell_id": "1126cffba82f41c68d598cd055ac9285",
    "deepnote_app_block_visible": true,
    "deepnote_cell_type": "text-cell-p",
    "formattedRanges": []
   },
   "source": [
    "Mean weight (( \\mu_{\\text{new}} )): 1003.5 grams"
   ]
  },
  {
   "cell_type": "markdown",
   "metadata": {
    "cell_id": "361062d3e5ec48afa50f1ef607e83c53",
    "deepnote_app_block_visible": true,
    "deepnote_cell_type": "text-cell-p",
    "formattedRanges": []
   },
   "source": [
    "Sample standard deviation (( \\sigma_{\\text{new}} )): 4.35 grams"
   ]
  },
  {
   "cell_type": "markdown",
   "metadata": {
    "cell_id": "e9fa63cef19a4fe48ef0be45eec01178",
    "deepnote_app_block_visible": true,
    "deepnote_cell_type": "text-cell-p",
    "formattedRanges": []
   },
   "source": [
    "Now let us do hypothesis testing for each case."
   ]
  },
  {
   "cell_type": "markdown",
   "metadata": {
    "cell_id": "5997227074c44cdeb3b3287f2e2bfdb7",
    "deepnote_app_block_visible": true,
    "deepnote_cell_type": "text-cell-p",
    "formattedRanges": []
   },
   "source": [
    "( \\xi_{13} = 0 ): Does the new system make more constant weights?"
   ]
  },
  {
   "cell_type": "markdown",
   "metadata": {
    "cell_id": "5789b16ddc5f44e79bc3b78391980f51",
    "deepnote_app_block_visible": true,
    "deepnote_cell_type": "text-cell-p",
    "formattedRanges": []
   },
   "source": [
    "Null Hypothesis (( H_0 )): ( \\sigma_{\\text{new}}^2 \\geq \\sigma_{\\text{old}}^2 )"
   ]
  },
  {
   "cell_type": "markdown",
   "metadata": {
    "cell_id": "102ff9f4a91d4cfebf806043aba96722",
    "deepnote_app_block_visible": true,
    "deepnote_cell_type": "text-cell-p",
    "formattedRanges": []
   },
   "source": [
    "Alternative Hypothesis (( H_1 )): ( \\sigma_{\\text{new}}^2 < \\sigma_{\\text{old}}^2 )"
   ]
  },
  {
   "cell_type": "markdown",
   "metadata": {
    "cell_id": "2df31e641f2049edab051ca87f988e5d",
    "deepnote_app_block_visible": true,
    "deepnote_cell_type": "text-cell-p",
    "formattedRanges": []
   },
   "source": [
    "Use an F-test to compare variances."
   ]
  },
  {
   "cell_type": "markdown",
   "metadata": {
    "cell_id": "0b43a6f66dd046a9bbcdc69112e505f7",
    "deepnote_app_block_visible": true,
    "deepnote_cell_type": "text-cell-p",
    "formattedRanges": []
   },
   "source": [
    "( \\xi_{13} = 1 ): Does the new system make lower weights?"
   ]
  },
  {
   "cell_type": "markdown",
   "metadata": {
    "cell_id": "333732442dc144b6b222a5698d81e384",
    "deepnote_app_block_visible": true,
    "deepnote_cell_type": "text-cell-p",
    "formattedRanges": []
   },
   "source": [
    "Null Hypothesis (( H_0 )): ( \\mu_{\\text{new}} > = μ_{{{\\rm old}}}  )"
   ]
  },
  {
   "cell_type": "markdown",
   "metadata": {
    "cell_id": "19096046d1724d82b242448e65b554be",
    "deepnote_app_block_visible": true,
    "deepnote_cell_type": "text-cell-p",
    "formattedRanges": []
   },
   "source": [
    "Alternative Hypothesis (( H_1 )): ( μ=\\left[{{{{{\\mu}_{n w }} -{μ o l d } }/{{s n (x)}}}\\right] ±.0259\\times s n (x))"
   ]
  },
  {
   "cell_type": "markdown",
   "metadata": {
    "cell_id": "d3acc741f4d34f0d80ca23944a55f6b5",
    "deepnote_app_block_visible": true,
    "deepnote_cell_type": "text-cell-p",
    "formattedRanges": []
   },
   "source": [
    "Use a One-Sample T-Test to Compare Means."
   ]
  },
  {
   "cell_type": "markdown",
   "metadata": {
    "cell_id": "e240bd10a42d4065bc56cbc25480e049",
    "deepnote_app_block_visible": true,
    "deepnote_cell_type": "text-cell-p",
    "formattedRanges": []
   },
   "source": [
    "( x i _ {13} = 2 ′; ′′ ″: ″; ’‘ ‴: ’′ : ″… Does the new system make higher weights?"
   ]
  },
  {
   "cell_type": "markdown",
   "metadata": {
    "cell_id": "6757f5d9421042f7af43e92b90ddd508",
    "deepnote_app_block_visible": true,
    "deepnote_cell_type": "text-cell-p",
    "formattedRanges": []
   },
   "source": [
    "Null Hypothesis (( H_0 )) $$: $ µ≤\\mu o l d $"
   ]
  },
  {
   "cell_type": "markdown",
   "metadata": {
    "cell_id": "c58c9e4662414e75abab01db58a74eaf",
    "deepnote_app_block_visible": true,
    "deepnote_cell_type": "text-cell-p",
    "formattedRanges": []
   },
   "source": [
    "Alternative Hypothesis (( H_1 )) $$: $ µ>\\mu o l d $"
   ]
  },
  {
   "cell_type": "markdown",
   "metadata": {
    "cell_id": "3c990635273649448ef8340c5e6daf1b",
    "deepnote_app_block_visible": true,
    "deepnote_cell_type": "text-cell-p",
    "formattedRanges": []
   },
   "source": [
    "Use a One-Sample T-Test to Compare Means."
   ]
  },
  {
   "cell_type": "markdown",
   "metadata": {
    "cell_id": "a793ad25220643e390f0a665295f1243",
    "deepnote_app_block_visible": true,
    "deepnote_cell_type": "text-cell-p",
    "formattedRanges": []
   },
   "source": [
    "( x i _ {13} = 3 ′; ′′ ″: ″; ’‘ ‴: ’′ : ″… Does the new system make less constant weights?"
   ]
  },
  {
   "cell_type": "markdown",
   "metadata": {
    "cell_id": "640f889314a4489f8b43b837c0a1a718",
    "deepnote_app_block_visible": true,
    "deepnote_cell_type": "text-cell-p",
    "formattedRanges": []
   },
   "source": [
    "Null Hypothesis (( H_0 )) $$: $ σ_{\\text{new}}^2 ≤σ_{\\text{old}}^2 $"
   ]
  },
  {
   "cell_type": "markdown",
   "metadata": {
    "cell_id": "b843a812394c497d9fb2a001c6b79b55",
    "deepnote_app_block_visible": true,
    "deepnote_cell_type": "text-cell-p",
    "formattedRanges": []
   },
   "source": [
    "Alternative Hypothesis (( H_1 )) $$: $ σ_{\\text{new}}^2>σ_{\\text{old}}^2 $"
   ]
  },
  {
   "cell_type": "markdown",
   "metadata": {
    "cell_id": "311dfcc68253409480029082e394aa7d",
    "deepnote_app_block_visible": true,
    "deepnote_cell_type": "text-cell-p",
    "formattedRanges": []
   },
   "source": [
    "Use an F-test to compare variances.\n",
    "\n"
   ]
  },
  {
   "cell_type": "code",
   "execution_count": 2,
   "metadata": {
    "cell_id": "d8c2d3000d524118866ad4e755f49d12",
    "deepnote_app_block_visible": true,
    "deepnote_cell_type": "code",
    "deepnote_to_be_reexecuted": false,
    "execution_millis": 36,
    "execution_start": 1717946870708,
    "source_hash": "c9fb0a95"
   },
   "outputs": [
    {
     "data": {
      "text/plain": [
       "(5.2785923753665696,\n",
       " 0.36877989127799843,\n",
       " 1.8892357852354515,\n",
       " 4.7105002731751e-07)"
      ]
     },
     "execution_count": 2,
     "metadata": {},
     "output_type": "execute_result"
    }
   ],
   "source": [
    "alpha = 0.05\n",
    "\n",
    "# F-test for variances (questions 0 and 3)\n",
    "F_statistic = (sigma_old ** 2) / (sigma_new ** 2)\n",
    "df1 = 999  # degrees of freedom for old system\n",
    "new_sample_size = len(new_weights)\n",
    "df2 = new_sample_size - 1  # degrees of freedom for new system\n",
    "\n",
    "# Critical value for one-tailed F-test\n",
    "F_critical_0 = stats.f.ppf(alpha, df2, df1)\n",
    "F_critical_3 = stats.f.ppf(1 - alpha, df2, df1)\n",
    "\n",
    "# P-value for F-test\n",
    "p_value_F = 1 - stats.f.cdf(F_statistic, df2, df1)\n",
    "\n",
    "F_statistic, F_critical_0, F_critical_3, p_value_F"
   ]
  },
  {
   "cell_type": "markdown",
   "metadata": {
    "cell_id": "963f3a92230c405fab93c8ce58ef3c98",
    "deepnote_app_block_visible": true,
    "deepnote_cell_type": "text-cell-p",
    "formattedRanges": []
   },
   "source": [
    "F-Test Results for Variances (Q0 and Q3)"
   ]
  },
  {
   "cell_type": "markdown",
   "metadata": {
    "cell_id": "2a7750e95d1e4ae0befe15960eace1cd",
    "deepnote_app_block_visible": true,
    "deepnote_cell_type": "text-cell-p",
    "formattedRanges": []
   },
   "source": [
    "( \\xi_{13} = 0 ): Does it make more constant weights of the new system?"
   ]
  },
  {
   "cell_type": "markdown",
   "metadata": {
    "cell_id": "474df707acba460d81fd9b15fac2d6c1",
    "deepnote_app_block_visible": true,
    "deepnote_cell_type": "text-cell-p",
    "formattedRanges": []
   },
   "source": [
    "Null Hypothesis (( H_0 )): ( \\sigma_{\\text{new}}^2 \\geq \\sigma_{\\text{old}}^2 )"
   ]
  },
  {
   "cell_type": "markdown",
   "metadata": {
    "cell_id": "bdfadee8c3684ed6ab40442830eb12ea",
    "deepnote_app_block_visible": true,
    "deepnote_cell_type": "text-cell-p",
    "formattedRanges": []
   },
   "source": [
    "Alternative Hypothesis (( H_1 )): ( \\sigma_{\\text{new}}^2 < \\sigma_{\\text{old}}^2 )"
   ]
  },
  {
   "cell_type": "markdown",
   "metadata": {
    "cell_id": "994a252e36f04d5fb1651df1ff89549b",
    "deepnote_app_block_visible": true,
    "deepnote_cell_type": "text-cell-p",
    "formattedRanges": []
   },
   "source": [
    "F-Statistic: 5.279"
   ]
  },
  {
   "cell_type": "markdown",
   "metadata": {
    "cell_id": "4fad6fef5cda4f559c9bc7865f3d8c22",
    "deepnote_app_block_visible": true,
    "deepnote_cell_type": "text-cell-p",
    "formattedRanges": []
   },
   "source": [
    "Critical Value (one-tailed, α=0.05): 0.369"
   ]
  },
  {
   "cell_type": "markdown",
   "metadata": {
    "cell_id": "7c93dae9ba764739adb42d42c6e27297",
    "deepnote_app_block_visible": true,
    "deepnote_cell_type": "text-cell-p",
    "formattedRanges": []
   },
   "source": [
    "Decision Rule: Reject ( H_0 ) if ( F_{\\text{statistic}} < F_{\\text{critical}} )"
   ]
  },
  {
   "cell_type": "markdown",
   "metadata": {
    "cell_id": "ec8161d66e6049c1bd8fffa802af6cc2",
    "deepnote_app_block_visible": true,
    "deepnote_cell_type": "text-cell-p",
    "formattedRanges": []
   },
   "source": [
    "We fail to reject ( H_0 ) since 5.279 > 0.369 . The new system does not make more constant weights."
   ]
  },
  {
   "cell_type": "markdown",
   "metadata": {
    "cell_id": "6a903fbd40d24819afdce6734c38b516",
    "deepnote_app_block_visible": true,
    "deepnote_cell_type": "text-cell-p",
    "formattedRanges": []
   },
   "source": [
    "Next, let's perform the t-tests for questions 1"
   ]
  },
  {
   "cell_type": "code",
   "execution_count": 3,
   "metadata": {
    "cell_id": "679bcd4c9da1418f99189950817f9cef",
    "deepnote_app_block_visible": true,
    "deepnote_cell_type": "code",
    "deepnote_to_be_reexecuted": false,
    "execution_millis": 35,
    "execution_start": 1717946870709,
    "source_hash": "90a4e422"
   },
   "outputs": [
    {
     "data": {
      "text/plain": [
       "(2.5428872684065342,\n",
       " 0.984219541925825,\n",
       " 2.5428872684065342,\n",
       " 0.015780458074175073)"
      ]
     },
     "execution_count": 3,
     "metadata": {},
     "output_type": "execute_result"
    }
   ],
   "source": [
    "# One-sample t-test for means (question 1)\n",
    "t_statistic_1, p_value_t_1 = stats.ttest_1samp(new_weights, mu_old, alternative='less')\n",
    "\n",
    "# One-sample t-test for means (question 2)\n",
    "t_statistic_2, p_value_t_2 = stats.ttest_1samp(new_weights, mu_old, alternative='greater')\n",
    "\n",
    "t_statistic_1, p_value_t_1, t_statistic_2, p_value_t_2"
   ]
  },
  {
   "cell_type": "markdown",
   "metadata": {
    "cell_id": "7af3e6aa86254782bb0c02a92530be5b",
    "deepnote_app_block_visible": true,
    "deepnote_cell_type": "text-cell-p",
    "formattedRanges": []
   },
   "source": [
    "Results of the t-test for Means (Questions 1 and 2)."
   ]
  },
  {
   "cell_type": "markdown",
   "metadata": {
    "cell_id": "4d83f1fadef546cbb807d77c1fef6200",
    "deepnote_app_block_visible": true,
    "deepnote_cell_type": "text-cell-p",
    "formattedRanges": []
   },
   "source": [
    "( \\xi_{13} = 1 ): Does the new system lead to a decrease in weight?"
   ]
  },
  {
   "cell_type": "markdown",
   "metadata": {
    "cell_id": "cc498448805c4869955e976db4e011ce",
    "deepnote_app_block_visible": true,
    "deepnote_cell_type": "text-cell-p",
    "formattedRanges": []
   },
   "source": [
    "Null Hypothesis (( H_0 )): ( \\mu_{\\text{new}} \\geq \\mu_{\\text{old}} )"
   ]
  },
  {
   "cell_type": "markdown",
   "metadata": {
    "cell_id": "c2c683ab9eb94acfa08a348ae63665d8",
    "deepnote_app_block_visible": true,
    "deepnote_cell_type": "text-cell-p",
    "formattedRanges": []
   },
   "source": [
    "Alternative Hypothesis (( H_1 )): ( \\mu_{\\text{new}} < \\mu_{\\text{old}} )"
   ]
  },
  {
   "cell_type": "markdown",
   "metadata": {
    "cell_id": "f91baf4997774e71b6d29957a2b2c3db",
    "deepnote_app_block_visible": true,
    "deepnote_cell_type": "text-cell-p",
    "formattedRanges": []
   },
   "source": [
    "t-statistic: 2.543"
   ]
  },
  {
   "cell_type": "markdown",
   "metadata": {
    "cell_id": "5d7a3eca63cf48fd9779c33f51f44e00",
    "deepnote_app_block_visible": true,
    "deepnote_cell_type": "text-cell-p",
    "formattedRanges": []
   },
   "source": [
    "p-value: 0.984"
   ]
  },
  {
   "cell_type": "markdown",
   "metadata": {
    "cell_id": "268a3625c271425dbfcc9bd133c59548",
    "deepnote_app_block_visible": true,
    "deepnote_cell_type": "text-cell-p",
    "formattedRanges": []
   },
   "source": [
    "Decision Rule: Reject ( H_0 ) if p-value < α"
   ]
  },
  {
   "cell_type": "markdown",
   "metadata": {
    "cell_id": "f27ba9e5c00543628ebbd01d3421a25c",
    "deepnote_app_block_visible": true,
    "deepnote_cell_type": "text-cell-p",
    "formattedRanges": []
   },
   "source": [
    "Since ( 0.984 > 0.05 ), we fail to reject ( H_0 ). The new system does not make lower weights."
   ]
  },
  {
   "cell_type": "markdown",
   "metadata": {
    "cell_id": "7b68be2991194902a1c5ae72a5453c44",
    "deepnote_app_block_visible": true,
    "deepnote_cell_type": "text-cell-p",
    "formattedRanges": []
   },
   "source": [
    "( ξ13 = 2 ∶) does the new system produce heavy weights?"
   ]
  },
  {
   "cell_type": "markdown",
   "metadata": {
    "cell_id": "87001534537f474c973569a3e40c34d0",
    "deepnote_app_block_visible": true,
    "deepnote_cell_type": "text-cell-p",
    "formattedRanges": []
   },
   "source": [
    "Null Hypothesis (( H_0 ∶)) ( μnew ≤μold )"
   ]
  },
  {
   "cell_type": "markdown",
   "metadata": {
    "cell_id": "62e5604ee34443f39653d10e0713dafd",
    "deepnote_app_block_visible": true,
    "deepnote_cell_type": "text-cell-p",
    "formattedRanges": []
   },
   "source": [
    "Alternative Hypothesis (( H_1 ∶)) ( μnew >μold.)"
   ]
  },
  {
   "cell_type": "markdown",
   "metadata": {
    "cell_id": "9ec43481042f46e6a0587f73ec29547e",
    "deepnote_app_block_visible": true,
    "deepnote_cell_type": "text-cell-p",
    "formattedRanges": []
   },
   "source": [
    "t-statistic: 2.543"
   ]
  },
  {
   "cell_type": "markdown",
   "metadata": {
    "cell_id": "3eb2e865426d4899a08778dc96b5d8fc",
    "deepnote_app_block_visible": true,
    "deepnote_cell_type": "text-cell-p",
    "formattedRanges": []
   },
   "source": [
    "p-value: .016"
   ]
  },
  {
   "cell_type": "markdown",
   "metadata": {
    "cell_id": "803b490299584c06bfb254e591bfb79c",
    "deepnote_app_block_visible": true,
    "deepnote_cell_type": "text-cell-p",
    "formattedRanges": []
   },
   "source": [
    "Decision rule : Rejecting null hypothesis if p value is smaller than alpha."
   ]
  },
  {
   "cell_type": "markdown",
   "metadata": {
    "cell_id": "c76a55e1272f42fa9fd8d9afdb573fc3",
    "deepnote_app_block_visible": true,
    "deepnote_cell_type": "text-cell-p",
    "formattedRanges": []
   },
   "source": [
    "As .016 is less than .05, we reject Ho and infer that the new system yields more weights."
   ]
  },
  {
   "cell_type": "markdown",
   "metadata": {
    "cell_id": "9c6079e5d4c8416d827a6b1f998b6f48",
    "deepnote_app_block_visible": true,
    "deepnote_cell_type": "text-cell-p",
    "formattedRanges": []
   },
   "source": [
    "Summary of Conclusions:"
   ]
  },
  {
   "cell_type": "markdown",
   "metadata": {
    "cell_id": "834d4c966c56447fbc0515272579a649",
    "deepnote_app_block_visible": true,
    "deepnote_cell_type": "text-cell-p",
    "formattedRanges": []
   },
   "source": [
    "( ξ13 = 0 ∶)The new system does not make more constant weights."
   ]
  },
  {
   "cell_type": "markdown",
   "metadata": {
    "cell_id": "a0624542a55c4f45a8dfe9629c7805bc",
    "deepnote_app_block_visible": true,
    "deepnote_cell_type": "text-cell-p",
    "formattedRanges": []
   },
   "source": [
    "( ξ13 = 1 ∶)The new system does not make lower weights."
   ]
  },
  {
   "cell_type": "markdown",
   "metadata": {
    "cell_id": "b7c0b4323862467e81cfadf32e949cb6",
    "deepnote_app_block_visible": true,
    "deepnote_cell_type": "text-cell-p",
    "formattedRanges": []
   },
   "source": [
    "( ξ13 = 2 ∶)The new system makes higher weights."
   ]
  },
  {
   "cell_type": "markdown",
   "metadata": {
    "cell_id": "7d75817b7c274c3da72535f21d57fe01",
    "deepnote_app_block_visible": true,
    "deepnote_cell_type": "text-cell-p",
    "formattedRanges": []
   },
   "source": [
    "( ξ13 =3∶)The new system makes less constant weights."
   ]
  },
  {
   "cell_type": "markdown",
   "metadata": {
    "cell_id": "cdd819c4e4754f2abd026316387e2938",
    "deepnote_app_block_visible": true,
    "deepnote_cell_type": "text-cell-p",
    "formattedRanges": []
   },
   "source": [
    "These have been based on the sample data presented and the hypothesis tests carried out."
   ]
  }
 ],
 "metadata": {
  "deepnote_app_layout": "powerful-article",
  "deepnote_app_reactivity_enabled": true,
  "deepnote_execution_queue": [],
  "deepnote_notebook_id": "8b1389fd0ef04e839e0cf55691fed1c3",
  "kernelspec": {
   "display_name": "anaconda-panel-2023.05-py310",
   "language": "python",
   "name": "conda-env-anaconda-panel-2023.05-py310-py"
  },
  "language_info": {
   "codemirror_mode": {
    "name": "ipython",
    "version": 3
   },
   "file_extension": ".py",
   "mimetype": "text/x-python",
   "name": "python",
   "nbconvert_exporter": "python",
   "pygments_lexer": "ipython3",
   "version": "3.11.5"
  }
 },
 "nbformat": 4,
 "nbformat_minor": 4
}
