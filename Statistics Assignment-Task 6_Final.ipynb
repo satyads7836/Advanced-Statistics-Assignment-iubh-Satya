{
 "cells": [
  {
   "cell_type": "markdown",
   "metadata": {
    "cell_id": "34e4bf60c4a445f1a4c86de8ccec3703",
    "color": "purple",
    "deepnote_cell_type": "text-cell-callout"
   },
   "source": [
    "> Task 6: Bayesian Estimates\n",
    "Following Hogg et al. (2020), exercise 11.2.2:\n",
    "Let 𝑥1, 𝑥2 …, 𝑥10 be a random sample from a gamma distribution with 𝛼 = 3 and 𝛽 = 1/𝜃. Suppose we believe\n",
    "that 𝜃 follows a gamma-distribution with 𝛼 = 𝜉17 and 𝛽 = 𝜉18 and suppose we have a trial (𝑥1, … , 𝑥𝑛) with an\n",
    "observed 𝑥̅\n",
    "= 𝜉19.\n",
    "a) Find the posterior distribution of 𝜃.\n",
    "b) What is the Bayes point estimate of 𝜃 associated with the square-error loss function?\n",
    "c) What is the Bayes point estimate of 𝜃 using the mode of the posterior distribution?"
   ]
  },
  {
   "cell_type": "markdown",
   "metadata": {
    "cell_id": "5af3196cea0b433cab00716f742849e3",
    "deepnote_app_block_visible": true,
    "deepnote_cell_type": "text-cell-p",
    "formattedRanges": []
   },
   "source": [
    "To work out this problem, we need to do the following steps:"
   ]
  },
  {
   "cell_type": "markdown",
   "metadata": {
    "cell_id": "0e4ce5fc612e40b9986011ba99873ab0",
    "deepnote_app_block_visible": true,
    "deepnote_cell_type": "text-cell-p",
    "formattedRanges": []
   },
   "source": [
    "Find the posterior distribution of 𝜃:"
   ]
  },
  {
   "cell_type": "markdown",
   "metadata": {
    "cell_id": "62720fb213114bb28b212d7db3a14d41",
    "deepnote_app_block_visible": true,
    "deepnote_cell_type": "text-cell-p",
    "formattedRanges": []
   },
   "source": [
    "Given that the prior distribution of 𝜃 is Gamma(𝛼 = 17, 𝛽 = 18) and the likelihood is based on a sample from a Gamma distribution with parameters 𝛼 = 3 and 𝛽 = 1/𝜃."
   ]
  },
  {
   "cell_type": "markdown",
   "metadata": {
    "cell_id": "b0ccb6437c11411dab44fec24a26098f",
    "deepnote_app_block_visible": true,
    "deepnote_cell_type": "text-cell-p",
    "formattedRanges": []
   },
   "source": [
    "The posterior distribution will also be a Gamma distribution because the Gamma distribution is a conjugate prior for the Gamma likelihood."
   ]
  },
  {
   "cell_type": "markdown",
   "metadata": {
    "cell_id": "71e51c3702f2482bb65633bd16bba3bf",
    "deepnote_app_block_visible": true,
    "deepnote_cell_type": "text-cell-p",
    "formattedRanges": []
   },
   "source": [
    "Use square error loss function"
   ]
  },
  {
   "cell_type": "markdown",
   "metadata": {
    "cell_id": "0d0262cb039d42e48ee61a20f3779b05",
    "deepnote_app_block_visible": true,
    "deepnote_cell_type": "text-cell-p",
    "formattedRanges": []
   },
   "source": [
    "To find Bayes point estimate of theta according to square error loss function mean of posterior distribution should be used."
   ]
  },
  {
   "cell_type": "markdown",
   "metadata": {
    "cell_id": "ae3c55c5f0a7477bae622ea34069d910",
    "deepnote_app_block_visible": true,
    "deepnote_cell_type": "text-cell-p",
    "formattedRanges": []
   },
   "source": [
    "Use mode of posterior distribution"
   ]
  },
  {
   "cell_type": "markdown",
   "metadata": {
    "cell_id": "457187b9f4dd4ed6827f942cf899e6ed",
    "deepnote_app_block_visible": true,
    "deepnote_cell_type": "text-cell-p",
    "formattedRanges": []
   },
   "source": [
    "The mode can be found by using properties of gamma distributions"
   ]
  },
  {
   "cell_type": "code",
   "execution_count": 4,
   "metadata": {
    "cell_id": "6478648ba1504a1e96fea9e62a2a9dc8",
    "deepnote_cell_type": "code",
    "deepnote_to_be_reexecuted": false,
    "execution_millis": 70,
    "execution_start": 1717947429472,
    "source_hash": "8f95bbdb"
   },
   "outputs": [
    {
     "data": {
      "text/plain": [
       "(alpha_prior + 30, beta_prior + 10*x_bar)"
      ]
     },
     "execution_count": 4,
     "metadata": {},
     "output_type": "execute_result"
    }
   ],
   "source": [
    "import sympy as sp\n",
    "\n",
    "# Define the symbols\n",
    "alpha_prior, beta_prior, x_bar, n = sp.symbols('alpha_prior beta_prior x_bar n')\n",
    "\n",
    "# Given values\n",
    "alpha_likelihood = 3\n",
    "n = 10\n",
    "\n",
    "# Posterior parameters\n",
    "alpha_posterior = alpha_prior + n * alpha_likelihood\n",
    "beta_posterior = beta_prior + n * x_bar\n",
    "\n",
    "alpha_posterior, beta_posterior"
   ]
  },
  {
   "cell_type": "markdown",
   "metadata": {
    "cell_id": "35cf067074364cc3aef31edde2b6e922",
    "deepnote_app_block_visible": true,
    "deepnote_cell_type": "text-cell-p",
    "formattedRanges": []
   },
   "source": [
    "The posterior distribution of 𝜃 is a Gamma distribution with parameters:\n",
    "- 𝛼_post = 𝛼_prior + 30\n",
    "- 𝛽_post = 𝛽_prior + 10 * 𝑥̅\n",
    "\n",
    "Next, let's find the Bayes point estimate of 𝜃 associated with the square-error loss function. This is the mean of the"
   ]
  },
  {
   "cell_type": "code",
   "execution_count": 5,
   "metadata": {
    "cell_id": "168f54ae27064598958cdc478db633cd",
    "deepnote_cell_type": "code",
    "deepnote_to_be_reexecuted": false,
    "execution_millis": 57,
    "execution_start": 1717947435356,
    "source_hash": "ddbdc3d5"
   },
   "outputs": [
    {
     "data": {
      "text/latex": [
       "$\\displaystyle \\frac{\\alpha_{prior} + 30}{\\beta_{prior} + 10 x_{bar}}$"
      ],
      "text/plain": [
       "(alpha_prior + 30)/(beta_prior + 10*x_bar)"
      ]
     },
     "execution_count": 5,
     "metadata": {},
     "output_type": "execute_result"
    }
   ],
   "source": [
    "posterior_mean = (alpha_prior + 30) / (beta_prior + 10 * x_bar)\n",
    "posterior_mean"
   ]
  },
  {
   "cell_type": "markdown",
   "metadata": {
    "cell_id": "45f1c9778ba945d5816a0e62ca437a4d",
    "deepnote_cell_type": "text-cell-p"
   },
   "source": [
    "The Bayes point estimate of 𝜃 associated with the square-error loss function is:\n",
    "- (𝛼_prior + 30) / (𝛽_prior + 10 * 𝑥̅)\n",
    "\n",
    "Finally, let's find the Bayes point estimate of 𝜃 using the mode of the posterior distribution. The mode of a Gamma distribution with parameters 𝛼 and 𝛽 is given by (𝛼 - 1) / 𝛽 for 𝛼 >"
   ]
  },
  {
   "cell_type": "code",
   "execution_count": 6,
   "metadata": {
    "cell_id": "63dcb5bc606f4371a4486bcfcb6eba8a",
    "deepnote_cell_type": "code",
    "deepnote_to_be_reexecuted": false,
    "execution_millis": 110,
    "execution_start": 1717947440268,
    "source_hash": "4fed8306"
   },
   "outputs": [
    {
     "data": {
      "text/latex": [
       "$\\displaystyle \\frac{\\alpha_{prior} + 29}{\\beta_{prior} + 10 x_{bar}}$"
      ],
      "text/plain": [
       "(alpha_prior + 29)/(beta_prior + 10*x_bar)"
      ]
     },
     "execution_count": 6,
     "metadata": {},
     "output_type": "execute_result"
    }
   ],
   "source": [
    "posterior_mode = (alpha_prior + 30 - 1) / (beta_prior + 10 * x_bar)\n",
    "posterior_mode"
   ]
  },
  {
   "cell_type": "markdown",
   "metadata": {
    "cell_id": "7028ce646ec94ef795364153be0ee4b2",
    "deepnote_cell_type": "text-cell-p",
    "formattedRanges": []
   },
   "source": [
    "The mode of the posterior distribution gives the Bayes point estimate 𝜃 as follows:"
   ]
  },
  {
   "cell_type": "markdown",
   "metadata": {
    "cell_id": "ad0182afd8b14620a691db8122f4bcdc",
    "deepnote_cell_type": "text-cell-p",
    "formattedRanges": []
   },
   "source": [
    "(𝛼_prior + 29) / (𝛽_prior + 10 * 𝑥̅)"
   ]
  },
  {
   "cell_type": "markdown",
   "metadata": {
    "cell_id": "3fb18fdcdcd148dc9c03d4a503906a4b",
    "deepnote_cell_type": "text-cell-p",
    "formattedRanges": []
   },
   "source": [
    "To sum up:"
   ]
  },
  {
   "cell_type": "markdown",
   "metadata": {
    "cell_id": "e8a0a5d6c9c7478999e96eaafaa88169",
    "deepnote_cell_type": "text-cell-p",
    "formattedRanges": []
   },
   "source": [
    "a) The Gamma distribution represents this posterior density with parameters (𝛼_post = 𝛼_prior + 30, 𝛽_post = 𝛽_prior + 10 * 𝑥̅)."
   ]
  },
  {
   "cell_type": "markdown",
   "metadata": {
    "cell_id": "bf4e3e681c7d447bb3c8f64192b4b6fa",
    "deepnote_cell_type": "text-cell-p",
    "formattedRanges": []
   },
   "source": [
    "b) For square-error loss function, the Bayes point estimate of 𝜃 is equal to (𝛼_prior + 30) / (𝛽_prior +10 * 𝑥̅)."
   ]
  },
  {
   "cell_type": "markdown",
   "metadata": {
    "cell_id": "3a05e0c440d449adbb4faa57ee7cbaba",
    "deepnote_cell_type": "text-cell-p",
    "formattedRanges": []
   },
   "source": [
    "c) Using the mode of the posterior distribution we can get a bayesian point estimator for θ which is equal to (𝛼_prior + 29) / (𝛽_prior +10 * x_bar)."
   ]
  }
 ],
 "metadata": {
  "deepnote_app_layout": "powerful-article",
  "deepnote_app_reactivity_enabled": true,
  "deepnote_execution_queue": [],
  "deepnote_notebook_id": "e8021991aeec4682b47f4f547b88e376",
  "kernelspec": {
   "display_name": "anaconda-panel-2023.05-py310",
   "language": "python",
   "name": "conda-env-anaconda-panel-2023.05-py310-py"
  },
  "language_info": {
   "codemirror_mode": {
    "name": "ipython",
    "version": 3
   },
   "file_extension": ".py",
   "mimetype": "text/x-python",
   "name": "python",
   "nbconvert_exporter": "python",
   "pygments_lexer": "ipython3",
   "version": "3.11.5"
  }
 },
 "nbformat": 4,
 "nbformat_minor": 4
}
