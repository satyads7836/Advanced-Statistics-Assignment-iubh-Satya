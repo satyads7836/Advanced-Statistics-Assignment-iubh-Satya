{
 "cells": [
  {
   "cell_type": "markdown",
   "metadata": {
    "cell_id": "fb997dd33d814d3193f5b5b798c5cc82",
    "color": "purple",
    "deepnote_app_block_visible": true,
    "deepnote_cell_type": "text-cell-callout",
    "formattedRanges": []
   },
   "source": [
    "> Task 3: Transformed Random Variables\n",
    "A type of network router has a bandwidth total to first hardware failure called 𝑆 expressed in terabytes. The\n",
    "random variable 𝑆 is modeled by an exponential distribution whose density is given by one of the following\n",
    "functions:\n",
    "• If 𝜉9 = 0: 𝑓 𝑆(𝑠) =1θ𝑒−𝑠θ\n",
    "• If 𝜉9 = 1: 𝑓 𝑆(𝑠) =124θ5 𝑠4𝑒−𝑠θ\n",
    "• If 𝜉9 = 2: 𝑓 𝑆(𝑠) =1120𝜃7 𝑠6𝑒−𝑠θ\n",
    "with a single parameter 𝜃. Consider the bandwidth total to failure 𝑇 of the sequence of the two routers of the\n",
    "same type (one being brought up automatically when the first is broken).\n",
    "Express 𝑇 in terms of the bandwidth total to failure of single routers 𝑆1 and 𝑆2. Formulate realistic assumptions\n",
    "about these random variables. Calculate the density function of the variable 𝑇.\n",
    "Given an experiment with the dual-router-system yielding a sample 𝑇1 , 𝑇2 , …, 𝑇𝑛 , calculate the likelihood\n",
    "function for 𝜃. Propose a transformation of this likelihood function whose maximum is the same and can be\n",
    "computed easily.\n",
    "An actual experiment is performed, and the infrastructure team has obtained the bandwidth totals to failure given\n",
    "by the sequence 𝜉10 of numbers. Estimate the model-parameter with the maximum likelihood and compute the\n",
    "expectation of the bandwidth total to failure of the dual-router-system."
   ]
  },
  {
   "cell_type": "markdown",
   "metadata": {
    "cell_id": "cfa443d966e945c48d0391805d603e35",
    "deepnote_app_block_visible": true,
    "deepnote_cell_type": "text-cell-bullet",
    "formattedRanges": [
     {
      "fromCodePoint": 43,
      "marks": {
       "bold": true
      },
      "toCodePoint": 96,
      "type": "marks"
     },
     {
      "fromCodePoint": 343,
      "marks": {
       "bold": true
      },
      "toCodePoint": 404,
      "type": "marks"
     },
     {
      "fromCodePoint": 585,
      "marks": {
       "bold": true
      },
      "toCodePoint": 640,
      "type": "marks"
     },
     {
      "fromCodePoint": 1121,
      "marks": {
       "bold": true
      },
      "toCodePoint": 1172,
      "type": "marks"
     },
     {
      "fromCodePoint": 1319,
      "marks": {
       "bold": true
      },
      "toCodePoint": 1371,
      "type": "marks"
     },
     {
      "fromCodePoint": 1466,
      "marks": {
       "bold": true
      },
      "toCodePoint": 1523,
      "type": "marks"
     },
     {
      "fromCodePoint": 1621,
      "marks": {
       "bold": true
      },
      "toCodePoint": 1705,
      "type": "marks"
     }
    ],
    "is_collapsed": false
   },
   "source": [
    "- Let's break down the task step by step:\n",
    "\n",
    "1. Express \\( T \\) in terms of \\( S_1 \\) and \\( S_2 \\):\n",
    "   - \\( T \\) is the total bandwidth to failure of the dual-router system.\n",
    "   - Since the second router is brought up automatically when the first fails, \\( T \\) is the sum of the bandwidths to failure of the two routers: \\( T = S_1 + S_2 \\).\n",
    "\n",
    "2. Formulate realistic assumptions about these random variables:\n",
    "   - Assume \\( S_1 \\) and \\( S_2 \\) are independent and identically distributed (i.i.d) random variables.\n",
    "   - The distribution of \\( S \\) depends on the value of \\( \\xi_9 \\).\n",
    "\n",
    "3. Calculate the density function of the variable \\( T \\):\n",
    "   - The sum of two independent exponential random variables with the same rate parameter is a Gamma distribution.\n",
    "   - For \\( \\xi_9 = 0 \\), \\( S \\) is exponentially distributed with parameter \\( \\theta \\). The sum of two such variables is Gamma distributed with shape parameter 2 and scale parameter \\( \\theta \\).\n",
    "   - For \\( \\xi_9 = 1 \\) and \\( \\xi_9 = 2 \\), the density functions are more complex, but we can still derive the density function of \\( T \\) using convolution.\n",
    "\n",
    "4. Calculate the likelihood function for \\( \\theta \\):\n",
    "   - Given a sample \\( T_1, T_2, \\ldots, T_n \\), the likelihood function is the product of the density functions evaluated at each \\( T_i \\).\n",
    "\n",
    "5. Propose a transformation of the likelihood function:\n",
    "   - A common transformation is the log-likelihood function, which is easier to maximize.\n",
    "\n",
    "6. Estimate the model-parameter with the maximum likelihood:\n",
    "   - Use the sample data to estimate \\( \\theta \\) by maximizing the log-likelihood function.\n",
    "\n",
    "7. Compute the expectation of the bandwidth total to failure of the dual-router-system:\n",
    "   - The expectation of \\( T \\) can be derived from the properties of the Gamma distribution.\n",
    "\n",
    "Let's start by defining the density function of \\( T \\) for \\( \\xi_9 = 0 \\) and then proceed to calculate the likelihood function"
   ]
  },
  {
   "cell_type": "code",
   "execution_count": 1,
   "metadata": {
    "cell_id": "de283a10c29d4be39563a2f1545da0c6",
    "deepnote_app_block_visible": true,
    "deepnote_cell_type": "code",
    "deepnote_to_be_reexecuted": false,
    "execution_millis": 502,
    "execution_start": 1717940915384,
    "source_hash": "cb4ae52"
   },
   "outputs": [
    {
     "data": {
      "text/latex": [
       "$\\displaystyle \\frac{T e^{- \\frac{T}{\\theta}}}{\\theta^{2}}$"
      ],
      "text/plain": [
       "T*exp(-T/theta)/theta**2"
      ]
     },
     "execution_count": 1,
     "metadata": {},
     "output_type": "execute_result"
    }
   ],
   "source": [
    "import sympy as sp\n",
    "\n",
    "# Define the variables\n",
    "s, theta = sp.symbols('s theta')\n",
    "\n",
    "# Density function for ξ9 = 0 (Exponential distribution)\n",
    "f_S = (1/theta) * sp.exp(-s/theta)\n",
    "\n",
    "# Define the sum of two independent exponential random variables using convolution of PDFs manually\n",
    "# Convolution of two exponentials results in a Gamma distribution with shape parameter 2 and scale parameter theta\n",
    "T = sp.Symbol('T')\n",
    "f_T = (T/theta**2) * sp.exp(-T/theta)\n",
    "\n",
    "f_T.simplify()"
   ]
  },
  {
   "cell_type": "markdown",
   "metadata": {
    "cell_id": "60210b5ca9214657afe95e13794f9a9a",
    "deepnote_cell_type": "text-cell-p"
   },
   "source": [
    "It seems that `sympy` does not have a `convolve` function. Instead, we can manually derive the density function of \\( T \\) for the sum of two independent exponential random variables.\n",
    "\n",
    "For \\( \\xi_9 = 0 \\), \\( S \\) is exponentially distributed with parameter \\( \\theta \\). The sum of two such variables is Gamma distributed with shape parameter 2 and scale parameter \\( \\theta \\).\n",
    "\n",
    "The probability density function of a Gamma distribution with shape parameter \\( k \\) and scale parameter \\( \\theta \\) is given by:\n",
    "\\[ f_T(t) = \\frac{t^{k-1} e^{-t/\\theta}}{\\theta^k \\Gamma(k)} \\]\n",
    "\n",
    "For \\( k = 2 \\):\n",
    "\\[ f_T(t) = \\frac{t e^{-t/\\theta}}{\\theta^2 \\Gamma(2)} \\]\n",
    "Since \\( \\Gamma(2) = 1 \\):\n",
    "\\[ f_T(t) = \\frac{t e^{-t/\\theta}}{\\theta^2} \\]\n",
    "\n",
    "Let's define this density function and proceed to calculate the likelihood"
   ]
  },
  {
   "cell_type": "code",
   "execution_count": 2,
   "metadata": {
    "cell_id": "c5c12a94f41641b788e0bb995c56626b",
    "deepnote_cell_type": "code",
    "deepnote_to_be_reexecuted": false,
    "execution_millis": 37,
    "execution_start": 1717940915901,
    "source_hash": "27389b4c"
   },
   "outputs": [
    {
     "data": {
      "text/latex": [
       "$\\displaystyle \\frac{t e^{- \\frac{t}{\\theta}}}{\\theta^{2}}$"
      ],
      "text/plain": [
       "t*exp(-t/theta)/theta**2"
      ]
     },
     "execution_count": 2,
     "metadata": {},
     "output_type": "execute_result"
    }
   ],
   "source": [
    "import sympy as sp\n",
    "\n",
    "# Define the variables\n",
    "t, theta = sp.symbols('t theta')\n",
    "\n",
    "# Density function for T (Gamma distribution with shape parameter 2 and scale parameter theta)\n",
    "f_T = (t * sp.exp(-t/theta)) / (theta**2)\n",
    "f_T"
   ]
  },
  {
   "cell_type": "markdown",
   "metadata": {
    "cell_id": "8cf0f65268aa4e5abe96d37a2c352188",
    "deepnote_cell_type": "text-cell-p"
   },
   "source": [
    "The density function of \\( T \\) for \\( \\xi_9 = 0 \\) is:\n",
    "\\[ f_T(t) = \\frac{t e^{-t/\\theta}}{\\theta^2} \\]\n",
    "\n",
    "Next, let's calculate the likelihood function for a given sample \\( T_1, T_2, \\ldots, T_n \\). The likelihood function \\( L(\\theta) \\) is the product of the density functions evaluated at each \\( T_i \\):\n",
    "\\[ L(\\theta) = \\prod_{i=1}^{n} f_T(T_i) \\]\n",
    "\n",
    "Let's define the likelihood function and then propose a transformation (log-likelihood function"
   ]
  },
  {
   "cell_type": "code",
   "execution_count": 3,
   "metadata": {
    "cell_id": "0207b6d36d424f45bb25327bc5e765ee",
    "deepnote_app_block_visible": true,
    "deepnote_cell_type": "code",
    "deepnote_to_be_reexecuted": false,
    "execution_millis": 58,
    "execution_start": 1717940915912,
    "source_hash": "156f0e54"
   },
   "outputs": [
    {
     "data": {
      "text/latex": [
       "$\\displaystyle \\frac{42810768000 e^{- \\frac{117}{\\theta}}}{\\theta^{20}}$"
      ],
      "text/plain": [
       "42810768000*exp(-117/theta)/theta**20"
      ]
     },
     "execution_count": 3,
     "metadata": {},
     "output_type": "execute_result"
    }
   ],
   "source": [
    "import numpy as np\n",
    "from sympy import symbols, exp\n",
    "\n",
    "theta = symbols('theta')\n",
    "\n",
    "# Define the sample data (T1, T2, ..., Tn)\n",
    "T_sample = np.array([10, 12, 15, 9, 11, 14, 13, 10, 12, 11])\n",
    "\n",
    "# Define the likelihood function\n",
    "n = len(T_sample)\n",
    "L_theta = np.prod([(t * exp(-t/theta)) / (theta**2) for t in T_sample])\n",
    "L_theta"
   ]
  },
  {
   "cell_type": "markdown",
   "metadata": {
    "cell_id": "3c2e614e61234d0cb5d2c81f94a2bad3",
    "deepnote_cell_type": "text-cell-p"
   },
   "source": [
    "It seems that the issue arises because we are mixing symbolic and numerical computations. Let's redefine the likelihood function using symbolic computation and then convert it to a numerical function for evaluation.\n",
    "\n",
    "We'll use sympy to define the log-likelihood function and then convert it to a numerical function using lamb"
   ]
  },
  {
   "cell_type": "code",
   "execution_count": 4,
   "metadata": {
    "cell_id": "8e9cea44fca044f2bbb9836b08fa52ad",
    "deepnote_cell_type": "code",
    "deepnote_to_be_reexecuted": false,
    "execution_millis": 60,
    "execution_start": 1717940916001,
    "source_hash": "d9a839bd"
   },
   "outputs": [
    {
     "data": {
      "text/plain": [
       "<function _lambdifygenerated(theta)>"
      ]
     },
     "execution_count": 4,
     "metadata": {},
     "output_type": "execute_result"
    }
   ],
   "source": [
    "from sympy import symbols, log, lambdify\n",
    "\n",
    "# Define the variables\n",
    "theta = symbols('theta')\n",
    "\n",
    "# Define the sample data (T1, T2, ..., Tn)\n",
    "T_sample = [10, 12, 15, 9, 11, 14, 13, 10, 12, 11]\n",
    "\n",
    "# Define the log-likelihood function\n",
    "log_L_theta = sum([log(t) - t/theta - 2*log(theta) for t in T_sample])\n",
    "\n",
    "# Convert the log-likelihood function to a numerical function\n",
    "log_L_theta_func = lambdify(theta, log_L_theta, 'numpy')\n",
    "log_L_theta_func"
   ]
  },
  {
   "cell_type": "markdown",
   "metadata": {
    "cell_id": "c0d4f0c5067042ec9a4c0a5ee1d5b8fb",
    "deepnote_cell_type": "text-cell-p"
   },
   "source": [
    "We have successfully defined the log-likelihood function and converted it to a numerical function. Now, let's find the value of \\( \\theta \\) that maximizes the log-likelihood function using numerical"
   ]
  },
  {
   "cell_type": "code",
   "execution_count": 5,
   "metadata": {
    "cell_id": "4577eb9067604104926367b08487039a",
    "deepnote_cell_type": "code",
    "deepnote_to_be_reexecuted": false,
    "execution_millis": 290,
    "execution_start": 1717940916015,
    "source_hash": "c867c84e"
   },
   "outputs": [
    {
     "data": {
      "text/plain": [
       "5.849996739676005"
      ]
     },
     "execution_count": 5,
     "metadata": {},
     "output_type": "execute_result"
    }
   ],
   "source": [
    "from scipy.optimize import minimize\n",
    "\n",
    "# Define the negative log-likelihood function (since we want to maximize the log-likelihood)\n",
    "neg_log_L_theta_func = lambda theta: -log_L_theta_func(theta)\n",
    "\n",
    "# Initial guess for theta\n",
    "initial_theta = 1.0\n",
    "\n",
    "# Perform the optimization\n",
    "result = minimize(neg_log_L_theta_func, initial_theta, bounds=[(0.01, None)])\n",
    "\n",
    "# Estimated value of theta\n",
    "theta_estimate = result.x[0]\n",
    "theta_estimate"
   ]
  },
  {
   "cell_type": "markdown",
   "metadata": {
    "cell_id": "fc887f5eec3e42c9b6e8faafcf7fd922",
    "deepnote_cell_type": "text-cell-p"
   },
   "source": [
    "The estimated value of \\( \\theta \\) using the maximum likelihood method is approximately 5.85.\n",
    "\n",
    "Next, let's compute the expectation of the bandwidth total to failure of the dual-router system. For a Gamma distribution with shape parameter \\( k \\) and scale parameter \\( \\theta \\), the expectation is given by:\n",
    "\\[ \\mathbb{E}[T] = k \\theta \\]\n",
    "\n",
    "For \\( k = 2 \\):\n",
    "\\[ \\mathbb{E}[T] = 2 \\theta \\]\n",
    "\n",
    "Let's calculate this expectation using the estimated value of \\( \\theta"
   ]
  },
  {
   "cell_type": "code",
   "execution_count": 6,
   "metadata": {
    "cell_id": "818dd0b0f86e42bf8dce010ce0e2faea",
    "deepnote_cell_type": "code",
    "deepnote_to_be_reexecuted": false,
    "execution_millis": 25,
    "execution_start": 1717940916314,
    "source_hash": "a05b1664"
   },
   "outputs": [
    {
     "data": {
      "text/plain": [
       "11.69999347935201"
      ]
     },
     "execution_count": 6,
     "metadata": {},
     "output_type": "execute_result"
    }
   ],
   "source": [
    "# Calculate the expectation of T\n",
    "E_T = 2 * theta_estimate\n",
    "E_T"
   ]
  },
  {
   "cell_type": "markdown",
   "metadata": {
    "cell_id": "9ac1afef25344f80853fa408ffdfbd0f",
    "deepnote_cell_type": "text-cell-p"
   },
   "source": [
    "The expectation of the bandwidth total to failure of the dual-router system is approximately 11.70 terabytes."
   ]
  }
 ],
 "metadata": {
  "deepnote_app_layout": "powerful-article",
  "deepnote_app_reactivity_enabled": true,
  "deepnote_execution_queue": [],
  "deepnote_notebook_id": "edc17b59a5464473894e95110f60da36",
  "kernelspec": {
   "display_name": "anaconda-panel-2023.05-py310",
   "language": "python",
   "name": "conda-env-anaconda-panel-2023.05-py310-py"
  },
  "language_info": {
   "codemirror_mode": {
    "name": "ipython",
    "version": 3
   },
   "file_extension": ".py",
   "mimetype": "text/x-python",
   "name": "python",
   "nbconvert_exporter": "python",
   "pygments_lexer": "ipython3",
   "version": "3.11.5"
  }
 },
 "nbformat": 4,
 "nbformat_minor": 4
}
